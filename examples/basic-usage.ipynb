{
 "cells": [
  {
   "cell_type": "code",
   "execution_count": 1,
   "metadata": {},
   "outputs": [],
   "source": [
    "%load_ext autoreload\n",
    "%autoreload 2"
   ]
  },
  {
   "cell_type": "code",
   "execution_count": 2,
   "metadata": {},
   "outputs": [],
   "source": [
    "import sys, os\n",
    "[sys.path.append(i) for i in ['../']]\n",
    "from lexis_bulk_api import Session\n",
    "\n",
    "# initialize a session\n",
    "key = os.environ.get('lexis_bulk_api_client')\n",
    "secret = os.environ.get('lexis_bulk_api_secret')\n",
    "session = Session(client_key=key, client_secret=secret)"
   ]
  },
  {
   "cell_type": "code",
   "execution_count": 3,
   "metadata": {},
   "outputs": [],
   "source": [
    "# get all source sets to which your account has access\n",
    "source_sets = session.get_source_sets()"
   ]
  },
  {
   "cell_type": "code",
   "execution_count": 4,
   "metadata": {},
   "outputs": [],
   "source": [
    "# get the subscription guids in the first source set\n",
    "subscription_guids = session.get_subscription_guids(source_sets[0])"
   ]
  },
  {
   "cell_type": "code",
   "execution_count": 5,
   "metadata": {},
   "outputs": [],
   "source": [
    "# get the subscription for the first subscription guid\n",
    "subscription = session.get_subscription(subscription_guids[0])"
   ]
  },
  {
   "cell_type": "code",
   "execution_count": 6,
   "metadata": {},
   "outputs": [],
   "source": [
    "# get the file guids for the subscription\n",
    "file_guids = session.get_file_guids(subscription)"
   ]
  },
  {
   "cell_type": "code",
   "execution_count": 7,
   "metadata": {},
   "outputs": [
    {
     "name": "stdout",
     "output_type": "stream",
     "text": [
      " * got text chunk with length 20971927\n",
      " * processed offset 20972009 of 159589775\n",
      " * got text chunk with length 20974204\n",
      " * processed offset 41946334 of 159589775\n",
      " * got text chunk with length 20975559\n",
      " * processed offset 62922353 of 159589775\n",
      " * got text chunk with length 20975045\n",
      " * processed offset 83897581 of 159589775\n",
      " * got text chunk with length 20974763\n",
      " * processed offset 104872524 of 159589775\n",
      " * got text chunk with length 20975478\n",
      " * processed offset 125848097 of 159589775\n",
      " * got text chunk with length 20971633\n",
      " * processed offset 146819876 of 159589775\n",
      " * got text chunk with length 12769859\n",
      " * processed offset 159589775 of 159589775\n"
     ]
    }
   ],
   "source": [
    "# get the text content in the first file_guid\n",
    "for text in session.get_file(file_guids[0], subscription_guids[0]):\n",
    "  print(' * got text chunk with length', len(text))"
   ]
  }
 ],
 "metadata": {
  "kernelspec": {
   "display_name": "Python 3",
   "language": "python",
   "name": "python3"
  },
  "language_info": {
   "codemirror_mode": {
    "name": "ipython",
    "version": 3
   },
   "file_extension": ".py",
   "mimetype": "text/x-python",
   "name": "python",
   "nbconvert_exporter": "python",
   "pygments_lexer": "ipython3",
   "version": "3.5.3"
  }
 },
 "nbformat": 4,
 "nbformat_minor": 2
}
